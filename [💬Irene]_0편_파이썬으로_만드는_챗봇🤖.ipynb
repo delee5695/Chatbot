{
  "nbformat": 4,
  "nbformat_minor": 0,
  "metadata": {
    "colab": {
      "provenance": [],
      "collapsed_sections": []
    },
    "kernelspec": {
      "name": "python3",
      "display_name": "Python 3"
    },
    "language_info": {
      "name": "python"
    }
  },
  "cells": [
    {
      "cell_type": "markdown",
      "source": [
        "본 포스팅은 데이콘 서포터즈 “데이크루\" 3기 활동의 일환입니다.\n"
      ],
      "metadata": {
        "id": "Tnlc_TUW6U0K"
      }
    },
    {
      "cell_type": "markdown",
      "source": [
        "## 👥 팀 소개\n",
        "\n",
        "\n",
        "안녕하세요 데이크루 3기 💬Irene💬 팀입니다.\n",
        "\n",
        "저희 팀의 주제는 **<파이썬으로 챗봇 만들기>** 입니다.\n",
        "\n",
        "**자연어 처리를 하는 NLTK**의 사용 방법에 대해 알아보고, 궁극적으로는 **챗봇**🤖을 형식으로 하여 사용자와 대화할 수 있는 AI를 만들어보고자 합니다!\n",
        "\n",
        "</aside>"
      ],
      "metadata": {
        "id": "xs_KS7Db7ZN7"
      }
    },
    {
      "cell_type": "markdown",
      "source": [
        "## 👩🏻‍💻 팀원\n",
        "\n",
        "- [kokooma](https://dacon.io/myprofile/442446/home)\n",
        "- [감프](https://dacon.io/myprofile/408826/home)\n",
        "- [sally_lee](https://www.dacon.io/myprofile/419621/achieve)\n",
        "- [hyxxnii](https://dacon.io/myprofile/403063/home)\n",
        "- [sosou](https://dacon.io/myprofile/410593/home)"
      ],
      "metadata": {
        "id": "HWH6kkdY76hr"
      }
    },
    {
      "cell_type": "markdown",
      "source": [
        "## 📚 스터디 및 게시글 운영 방식\n",
        "\n",
        "- 매주 **화요일 오후 2시** 💬Irene 팀의 게시글이 올라옵니다!\n",
        "- [처음 배우는 딥러닝 챗봇(조경래 저)](https://book.naver.com/bookdb/book_detail.naver?bid=16892505)을 주 책으로 이용합니다.\n",
        "- 💬IIrene💬I팀은 주 1회(금 19:00 ~ 21:00) 비대면 미팅을 통해 스터디를 진행하고 있습니다."
      ],
      "metadata": {
        "id": "8-P0G4E279q9"
      }
    },
    {
      "cell_type": "markdown",
      "source": [
        "## 🔥이런 분들에게 추천합니다\n",
        "\n",
        "- 자연어 처리에 관심이 많으신 분 💬\n",
        "- 챗봇을 만들어 보고 싶지만 혼자 만들기엔 어려움을 겪으시던 분 🤖\n",
        "- 파이썬을 잘 다룰 수 있지만 파이썬으로 어떤 걸 해볼지 모르겠는 분 🤔"
      ],
      "metadata": {
        "id": "15dRF7-l8B9s"
      }
    },
    {
      "cell_type": "markdown",
      "source": [
        "## 📄 커리큘럼\n",
        "\n",
        "**자연어 처리**\n",
        "\n",
        "[💬Irene] ❤️ 1편. 토크나이징과 임베딩이란? - KoNLPy, 단어 임베딩\n",
        "\n",
        "[💬Irene] 🧡 2편. 텍스트 유사도 - n-gram 유사도, 코사인 유사도 \n",
        "\n",
        "**챗봇 기본 구조**\n",
        "\n",
        "[💬Irene] 💛 3편. 챗봇 엔진에 필요한 딥러닝 모델 - Keras, CNN, LSTM\n",
        "\n",
        "[💬Irene] 💚 4편. 챗봇 학습툴 만들기 - MySQL, DB 연동\n",
        "\n",
        "[💬Irene] 💙 5편. 챗봇 엔진 만들기 - 전처리 과정, 의도 분류 및 개체명 인식 모델 학습, 챗봇 엔진 서버 개발\n",
        "\n",
        "[💬Irene] 💜 6편. 챗봇 API 소개 - 챗봇 API, 파이썬 Flask\n",
        "\n",
        "**챗봇 응용편** \n",
        "\n",
        "[💬Irene] 🤎 7편. 카카오톡 챗봇 만들기 - 카카오 아이 오픈빌더 소개 및 연동\n",
        "\n",
        "[💬Irene] 🖤 8편. 네이버톡톡 챗봇 만들기 - 네이버톡톡 챗봇 플랫폼 소개 및 연동"
      ],
      "metadata": {
        "id": "IDZKl01W6PYH"
      }
    }
  ]
}